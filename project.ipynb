{
 "cells": [
  {
   "cell_type": "code",
   "execution_count": null,
   "metadata": {},
   "outputs": [],
   "source": [
    "import numpy as np\n",
    "import pandas as pd\n"
   ]
  },
  {
   "cell_type": "code",
   "execution_count": null,
   "metadata": {},
   "outputs": [],
   "source": [
    "def _get_files_from_repo(files, repo):\n",
    "  repository_url = f\"https://raw.githubusercontent.com/flavio2018/{repo}/master/\"\n",
    "  for file in files:\n",
    "    ! wget -O {file} {repository_url}{file}"
   ]
  },
  {
   "cell_type": "code",
   "execution_count": null,
   "metadata": {},
   "outputs": [],
   "source": [
    "url_dbn = 'https://raw.githubusercontent.com/luismarcoslc/cognition_project/main/DBN.py'\n",
    "url_rbm = 'https://raw.githubusercontent.com/luismarcoslc/cognition_project/main/RBM.py'"
   ]
  }
 ],
 "metadata": {
  "language_info": {
   "name": "python"
  },
  "orig_nbformat": 4
 },
 "nbformat": 4,
 "nbformat_minor": 2
}
